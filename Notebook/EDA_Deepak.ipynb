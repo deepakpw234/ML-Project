{
 "cells": [
  {
   "cell_type": "code",
   "execution_count": null,
   "id": "021d0359",
   "metadata": {},
   "outputs": [
    {
     "ename": "",
     "evalue": "",
     "output_type": "error",
     "traceback": [
      "\u001b[1;31mRunning cells with 'venv (Python 3.9.0)' requires the ipykernel package.\n",
      "\u001b[1;31mRun the following command to install 'ipykernel' into the Python environment. \n",
      "\u001b[1;31mCommand: 'conda install -p c:\\Users\\deepa\\Panda 2024\\ML Project\\venv ipykernel --update-deps --force-reinstall'"
     ]
    }
   ],
   "source": [
    "import pandas as pd\n",
    "import numpy as np \n",
    "import matplotlib.pyplot as plt\n",
    "%matplotlib inline\n",
    "import seaborn as sns \n",
    "import warnings\n",
    "warnings.filterwarnings(\"ignore\")"
   ]
  },
  {
   "cell_type": "code",
   "execution_count": null,
   "id": "4240670d",
   "metadata": {},
   "outputs": [
    {
     "ename": "",
     "evalue": "",
     "output_type": "error",
     "traceback": [
      "\u001b[1;31mRunning cells with 'venv (Python 3.9.0)' requires the ipykernel package.\n",
      "\u001b[1;31mRun the following command to install 'ipykernel' into the Python environment. \n",
      "\u001b[1;31mCommand: 'conda install -p c:\\Users\\deepa\\Panda 2024\\ML Project\\venv ipykernel --update-deps --force-reinstall'"
     ]
    }
   ],
   "source": [
    "df = pd.read_csv(r\"C:\\Users\\deepa\\Panda 2024\\ML Project\\Notebook\\stud.csv\")\n",
    "df.head()"
   ]
  },
  {
   "cell_type": "code",
   "execution_count": null,
   "id": "86e6ef7c",
   "metadata": {},
   "outputs": [
    {
     "ename": "",
     "evalue": "",
     "output_type": "error",
     "traceback": [
      "\u001b[1;31mRunning cells with 'venv (Python 3.9.0)' requires the ipykernel package.\n",
      "\u001b[1;31mRun the following command to install 'ipykernel' into the Python environment. \n",
      "\u001b[1;31mCommand: 'conda install -p c:\\Users\\deepa\\Panda 2024\\ML Project\\venv ipykernel --update-deps --force-reinstall'"
     ]
    }
   ],
   "source": [
    "df.shape"
   ]
  },
  {
   "cell_type": "code",
   "execution_count": null,
   "id": "1e947894",
   "metadata": {},
   "outputs": [
    {
     "ename": "",
     "evalue": "",
     "output_type": "error",
     "traceback": [
      "\u001b[1;31mRunning cells with 'venv (Python 3.9.0)' requires the ipykernel package.\n",
      "\u001b[1;31mRun the following command to install 'ipykernel' into the Python environment. \n",
      "\u001b[1;31mCommand: 'conda install -p c:\\Users\\deepa\\Panda 2024\\ML Project\\venv ipykernel --update-deps --force-reinstall'"
     ]
    }
   ],
   "source": [
    "df.isnull().sum()"
   ]
  },
  {
   "cell_type": "markdown",
   "id": "4482c06d",
   "metadata": {},
   "source": [
    "There is no missing value in any of the column"
   ]
  },
  {
   "cell_type": "code",
   "execution_count": null,
   "id": "9a222c5c",
   "metadata": {},
   "outputs": [
    {
     "ename": "",
     "evalue": "",
     "output_type": "error",
     "traceback": [
      "\u001b[1;31mRunning cells with 'venv (Python 3.9.0)' requires the ipykernel package.\n",
      "\u001b[1;31mRun the following command to install 'ipykernel' into the Python environment. \n",
      "\u001b[1;31mCommand: 'conda install -p c:\\Users\\deepa\\Panda 2024\\ML Project\\venv ipykernel --update-deps --force-reinstall'"
     ]
    }
   ],
   "source": [
    "df.duplicated()"
   ]
  },
  {
   "cell_type": "code",
   "execution_count": null,
   "id": "8d63b3da",
   "metadata": {},
   "outputs": [
    {
     "ename": "",
     "evalue": "",
     "output_type": "error",
     "traceback": [
      "\u001b[1;31mRunning cells with 'venv (Python 3.9.0)' requires the ipykernel package.\n",
      "\u001b[1;31mRun the following command to install 'ipykernel' into the Python environment. \n",
      "\u001b[1;31mCommand: 'conda install -p c:\\Users\\deepa\\Panda 2024\\ML Project\\venv ipykernel --update-deps --force-reinstall'"
     ]
    }
   ],
   "source": [
    "df.duplicated().sum()"
   ]
  },
  {
   "cell_type": "markdown",
   "id": "2e36d8d8",
   "metadata": {},
   "source": [
    "There is no duplicates values in the Dataframe"
   ]
  },
  {
   "cell_type": "code",
   "execution_count": null,
   "id": "18dbc0e3",
   "metadata": {},
   "outputs": [
    {
     "ename": "",
     "evalue": "",
     "output_type": "error",
     "traceback": [
      "\u001b[1;31mRunning cells with 'venv (Python 3.9.0)' requires the ipykernel package.\n",
      "\u001b[1;31mRun the following command to install 'ipykernel' into the Python environment. \n",
      "\u001b[1;31mCommand: 'conda install -p c:\\Users\\deepa\\Panda 2024\\ML Project\\venv ipykernel --update-deps --force-reinstall'"
     ]
    }
   ],
   "source": [
    "df.info()"
   ]
  },
  {
   "cell_type": "code",
   "execution_count": null,
   "id": "43b68213",
   "metadata": {},
   "outputs": [
    {
     "ename": "",
     "evalue": "",
     "output_type": "error",
     "traceback": [
      "\u001b[1;31mRunning cells with 'venv (Python 3.9.0)' requires the ipykernel package.\n",
      "\u001b[1;31mRun the following command to install 'ipykernel' into the Python environment. \n",
      "\u001b[1;31mCommand: 'conda install -p c:\\Users\\deepa\\Panda 2024\\ML Project\\venv ipykernel --update-deps --force-reinstall'"
     ]
    }
   ],
   "source": [
    "df.nunique()"
   ]
  },
  {
   "cell_type": "code",
   "execution_count": null,
   "id": "89d347e1",
   "metadata": {},
   "outputs": [
    {
     "ename": "",
     "evalue": "",
     "output_type": "error",
     "traceback": [
      "\u001b[1;31mRunning cells with 'venv (Python 3.9.0)' requires the ipykernel package.\n",
      "\u001b[1;31mRun the following command to install 'ipykernel' into the Python environment. \n",
      "\u001b[1;31mCommand: 'conda install -p c:\\Users\\deepa\\Panda 2024\\ML Project\\venv ipykernel --update-deps --force-reinstall'"
     ]
    }
   ],
   "source": [
    "df.gender.value_counts()"
   ]
  },
  {
   "cell_type": "code",
   "execution_count": null,
   "id": "f311f10d",
   "metadata": {},
   "outputs": [
    {
     "ename": "",
     "evalue": "",
     "output_type": "error",
     "traceback": [
      "\u001b[1;31mRunning cells with 'venv (Python 3.9.0)' requires the ipykernel package.\n",
      "\u001b[1;31mRun the following command to install 'ipykernel' into the Python environment. \n",
      "\u001b[1;31mCommand: 'conda install -p c:\\Users\\deepa\\Panda 2024\\ML Project\\venv ipykernel --update-deps --force-reinstall'"
     ]
    }
   ],
   "source": [
    "df.race_ethnicity.value_counts()"
   ]
  },
  {
   "cell_type": "code",
   "execution_count": null,
   "id": "048e07f2",
   "metadata": {},
   "outputs": [
    {
     "ename": "",
     "evalue": "",
     "output_type": "error",
     "traceback": [
      "\u001b[1;31mRunning cells with 'venv (Python 3.9.0)' requires the ipykernel package.\n",
      "\u001b[1;31mRun the following command to install 'ipykernel' into the Python environment. \n",
      "\u001b[1;31mCommand: 'conda install -p c:\\Users\\deepa\\Panda 2024\\ML Project\\venv ipykernel --update-deps --force-reinstall'"
     ]
    }
   ],
   "source": [
    "df.describe()"
   ]
  },
  {
   "cell_type": "markdown",
   "id": "c7d1fc07",
   "metadata": {},
   "source": [
    "1) All three parameter have more or less same mean\n",
    "2) std is also very close for all three parameters\n",
    "3) math_score min is 10, reading_score min is 17, writing_score is 10"
   ]
  },
  {
   "cell_type": "code",
   "execution_count": null,
   "id": "780a8037",
   "metadata": {},
   "outputs": [
    {
     "ename": "",
     "evalue": "",
     "output_type": "error",
     "traceback": [
      "\u001b[1;31mRunning cells with 'venv (Python 3.9.0)' requires the ipykernel package.\n",
      "\u001b[1;31mRun the following command to install 'ipykernel' into the Python environment. \n",
      "\u001b[1;31mCommand: 'conda install -p c:\\Users\\deepa\\Panda 2024\\ML Project\\venv ipykernel --update-deps --force-reinstall'"
     ]
    }
   ],
   "source": [
    "df.cov()"
   ]
  },
  {
   "cell_type": "code",
   "execution_count": null,
   "id": "089cd131",
   "metadata": {},
   "outputs": [
    {
     "ename": "",
     "evalue": "",
     "output_type": "error",
     "traceback": [
      "\u001b[1;31mRunning cells with 'venv (Python 3.9.0)' requires the ipykernel package.\n",
      "\u001b[1;31mRun the following command to install 'ipykernel' into the Python environment. \n",
      "\u001b[1;31mCommand: 'conda install -p c:\\Users\\deepa\\Panda 2024\\ML Project\\venv ipykernel --update-deps --force-reinstall'"
     ]
    }
   ],
   "source": [
    "df.corr()"
   ]
  },
  {
   "cell_type": "markdown",
   "id": "e6110e3b",
   "metadata": {},
   "source": [
    "math_score, reading score, and writing score are strongly positive related"
   ]
  },
  {
   "cell_type": "markdown",
   "id": "0d82c05a",
   "metadata": {},
   "source": [
    "Reading score and writing score is strongly positive correlated"
   ]
  },
  {
   "cell_type": "code",
   "execution_count": null,
   "id": "312dc6fa",
   "metadata": {},
   "outputs": [
    {
     "ename": "",
     "evalue": "",
     "output_type": "error",
     "traceback": [
      "\u001b[1;31mRunning cells with 'venv (Python 3.9.0)' requires the ipykernel package.\n",
      "\u001b[1;31mRun the following command to install 'ipykernel' into the Python environment. \n",
      "\u001b[1;31mCommand: 'conda install -p c:\\Users\\deepa\\Panda 2024\\ML Project\\venv ipykernel --update-deps --force-reinstall'"
     ]
    }
   ],
   "source": [
    "sns.pairplot(df)"
   ]
  },
  {
   "cell_type": "code",
   "execution_count": null,
   "id": "d05f5877",
   "metadata": {},
   "outputs": [
    {
     "ename": "",
     "evalue": "",
     "output_type": "error",
     "traceback": [
      "\u001b[1;31mRunning cells with 'venv (Python 3.9.0)' requires the ipykernel package.\n",
      "\u001b[1;31mRun the following command to install 'ipykernel' into the Python environment. \n",
      "\u001b[1;31mCommand: 'conda install -p c:\\Users\\deepa\\Panda 2024\\ML Project\\venv ipykernel --update-deps --force-reinstall'"
     ]
    }
   ],
   "source": [
    "sns.distplot(df['reading_score'])"
   ]
  },
  {
   "cell_type": "code",
   "execution_count": null,
   "id": "82b469f3",
   "metadata": {},
   "outputs": [
    {
     "ename": "",
     "evalue": "",
     "output_type": "error",
     "traceback": [
      "\u001b[1;31mRunning cells with 'venv (Python 3.9.0)' requires the ipykernel package.\n",
      "\u001b[1;31mRun the following command to install 'ipykernel' into the Python environment. \n",
      "\u001b[1;31mCommand: 'conda install -p c:\\Users\\deepa\\Panda 2024\\ML Project\\venv ipykernel --update-deps --force-reinstall'"
     ]
    }
   ],
   "source": [
    "df.head()"
   ]
  },
  {
   "cell_type": "code",
   "execution_count": null,
   "id": "28350f41",
   "metadata": {},
   "outputs": [
    {
     "ename": "",
     "evalue": "",
     "output_type": "error",
     "traceback": [
      "\u001b[1;31mRunning cells with 'venv (Python 3.9.0)' requires the ipykernel package.\n",
      "\u001b[1;31mRun the following command to install 'ipykernel' into the Python environment. \n",
      "\u001b[1;31mCommand: 'conda install -p c:\\Users\\deepa\\Panda 2024\\ML Project\\venv ipykernel --update-deps --force-reinstall'"
     ]
    }
   ],
   "source": [
    "print(\"Categories in 'gender' varaible:   \",end=\" \")\n",
    "print(df.gender.unique())\n",
    "print(\"Categories in 'race_ethnicity' varaible:   \",end=\" \")\n",
    "print(df.race_ethnicity.unique())\n",
    "print(\"Categories in 'parental_level_of_education' varaible:   \",end=\" \")\n",
    "print(df.parental_level_of_education.unique())\n",
    "print(\"Categories in 'lunch' varaible:   \",end=\" \")\n",
    "print(df.lunch.unique())\n",
    "print(\"Categories in 'test_preparation_course' varaible:   \",end=\" \")\n",
    "print(df.test_preparation_course.unique())"
   ]
  },
  {
   "cell_type": "code",
   "execution_count": null,
   "id": "1fb057b5",
   "metadata": {},
   "outputs": [
    {
     "ename": "",
     "evalue": "",
     "output_type": "error",
     "traceback": [
      "\u001b[1;31mRunning cells with 'venv (Python 3.9.0)' requires the ipykernel package.\n",
      "\u001b[1;31mRun the following command to install 'ipykernel' into the Python environment. \n",
      "\u001b[1;31mCommand: 'conda install -p c:\\Users\\deepa\\Panda 2024\\ML Project\\venv ipykernel --update-deps --force-reinstall'"
     ]
    }
   ],
   "source": [
    "df['gender'].dtype"
   ]
  },
  {
   "cell_type": "code",
   "execution_count": null,
   "id": "3ee5ba6b",
   "metadata": {},
   "outputs": [
    {
     "ename": "",
     "evalue": "",
     "output_type": "error",
     "traceback": [
      "\u001b[1;31mRunning cells with 'venv (Python 3.9.0)' requires the ipykernel package.\n",
      "\u001b[1;31mRun the following command to install 'ipykernel' into the Python environment. \n",
      "\u001b[1;31mCommand: 'conda install -p c:\\Users\\deepa\\Panda 2024\\ML Project\\venv ipykernel --update-deps --force-reinstall'"
     ]
    }
   ],
   "source": []
  },
  {
   "cell_type": "code",
   "execution_count": null,
   "id": "9f34fb57",
   "metadata": {},
   "outputs": [
    {
     "ename": "",
     "evalue": "",
     "output_type": "error",
     "traceback": [
      "\u001b[1;31mRunning cells with 'venv (Python 3.9.0)' requires the ipykernel package.\n",
      "\u001b[1;31mRun the following command to install 'ipykernel' into the Python environment. \n",
      "\u001b[1;31mCommand: 'conda install -p c:\\Users\\deepa\\Panda 2024\\ML Project\\venv ipykernel --update-deps --force-reinstall'"
     ]
    }
   ],
   "source": [
    "numeric_features = [feature for feature in df.columns if df[feature].dtype != 'O']\n",
    "categorical_features = [feature for feature in df.columns if df[feature].dtype == 'O']\n",
    "\n",
    "print(\"we have {} numeric features: {}\".format(len(numeric_features),numeric_features))\n",
    "print(\"we have {} numeric features: {}\".format(len(categorical_features),categorical_features))"
   ]
  },
  {
   "cell_type": "code",
   "execution_count": null,
   "id": "c0dae273",
   "metadata": {},
   "outputs": [
    {
     "ename": "",
     "evalue": "",
     "output_type": "error",
     "traceback": [
      "\u001b[1;31mRunning cells with 'venv (Python 3.9.0)' requires the ipykernel package.\n",
      "\u001b[1;31mRun the following command to install 'ipykernel' into the Python environment. \n",
      "\u001b[1;31mCommand: 'conda install -p c:\\Users\\deepa\\Panda 2024\\ML Project\\venv ipykernel --update-deps --force-reinstall'"
     ]
    }
   ],
   "source": [
    "categorical_features"
   ]
  },
  {
   "cell_type": "code",
   "execution_count": null,
   "id": "995e72bd",
   "metadata": {},
   "outputs": [
    {
     "ename": "",
     "evalue": "",
     "output_type": "error",
     "traceback": [
      "\u001b[1;31mRunning cells with 'venv (Python 3.9.0)' requires the ipykernel package.\n",
      "\u001b[1;31mRun the following command to install 'ipykernel' into the Python environment. \n",
      "\u001b[1;31mCommand: 'conda install -p c:\\Users\\deepa\\Panda 2024\\ML Project\\venv ipykernel --update-deps --force-reinstall'"
     ]
    }
   ],
   "source": [
    "df['total_score'] = df['math_score']+df['reading_score']+df['writing_score']\n",
    "df['average'] = df['total_score']/3\n",
    "df.head()"
   ]
  },
  {
   "cell_type": "code",
   "execution_count": null,
   "id": "498e5f68",
   "metadata": {},
   "outputs": [
    {
     "ename": "",
     "evalue": "",
     "output_type": "error",
     "traceback": [
      "\u001b[1;31mRunning cells with 'venv (Python 3.9.0)' requires the ipykernel package.\n",
      "\u001b[1;31mRun the following command to install 'ipykernel' into the Python environment. \n",
      "\u001b[1;31mCommand: 'conda install -p c:\\Users\\deepa\\Panda 2024\\ML Project\\venv ipykernel --update-deps --force-reinstall'"
     ]
    }
   ],
   "source": [
    "maths_full = df[df['math_score']==100]['math_score'].count()\n",
    "reading_full = df[df['reading_score']==100]['reading_score'].count()\n",
    "writing_full = df[df['writing_score']==100]['writing_score'].count()\n",
    "\n",
    "print(\"Number of students with full marks in maths: {}\".format(maths_full))\n",
    "print(\"Number of students with full marks in writing: {}\".format(writing_full))\n",
    "print(\"Number of students with full marks in reading: {}\".format(reading_full))"
   ]
  },
  {
   "cell_type": "code",
   "execution_count": null,
   "id": "724be8e2",
   "metadata": {},
   "outputs": [
    {
     "ename": "",
     "evalue": "",
     "output_type": "error",
     "traceback": [
      "\u001b[1;31mRunning cells with 'venv (Python 3.9.0)' requires the ipykernel package.\n",
      "\u001b[1;31mRun the following command to install 'ipykernel' into the Python environment. \n",
      "\u001b[1;31mCommand: 'conda install -p c:\\Users\\deepa\\Panda 2024\\ML Project\\venv ipykernel --update-deps --force-reinstall'"
     ]
    }
   ],
   "source": [
    "math_less_20 = df[df['math_score']<=20]['math_score'].count()\n",
    "reading_less_20 = df[df['reading_score']<=20]['reading_score'].count()\n",
    "writing_less_20 = df[df['writing_score']<=20]['writing_score'].count()\n",
    "\n",
    "print(\"Number of students with less than 20 marks in maths: {}\".format(math_less_20))\n",
    "print(\"Number of students with less than 20 marks in writing: {}\".format(writing_less_20))\n",
    "print(\"Number of students with less than 20 marks in reading: {}\".format(reading_less_20))"
   ]
  },
  {
   "cell_type": "markdown",
   "id": "e4c3301b",
   "metadata": {},
   "source": [
    "Best perforamnce in reading section and worst in maths"
   ]
  },
  {
   "cell_type": "code",
   "execution_count": null,
   "id": "dbcf0f1a",
   "metadata": {},
   "outputs": [
    {
     "ename": "",
     "evalue": "",
     "output_type": "error",
     "traceback": [
      "\u001b[1;31mRunning cells with 'venv (Python 3.9.0)' requires the ipykernel package.\n",
      "\u001b[1;31mRun the following command to install 'ipykernel' into the Python environment. \n",
      "\u001b[1;31mCommand: 'conda install -p c:\\Users\\deepa\\Panda 2024\\ML Project\\venv ipykernel --update-deps --force-reinstall'"
     ]
    }
   ],
   "source": [
    "fig, axs = plt.subplots(1,2,figsize = (15,7))\n",
    "plt.subplot(121)\n",
    "sns.histplot(data=df,x='average',bins=30,kde=True,color='g')\n",
    "plt.subplot(122)\n",
    "sns.histplot(data=df,x='average',kde=True,hue='gender')\n",
    "plt.show()"
   ]
  },
  {
   "cell_type": "code",
   "execution_count": null,
   "id": "186fe983",
   "metadata": {},
   "outputs": [
    {
     "ename": "",
     "evalue": "",
     "output_type": "error",
     "traceback": [
      "\u001b[1;31mRunning cells with 'venv (Python 3.9.0)' requires the ipykernel package.\n",
      "\u001b[1;31mRun the following command to install 'ipykernel' into the Python environment. \n",
      "\u001b[1;31mCommand: 'conda install -p c:\\Users\\deepa\\Panda 2024\\ML Project\\venv ipykernel --update-deps --force-reinstall'"
     ]
    }
   ],
   "source": [
    "fig, axs = plt.subplots(1,2,figsize = (15,7))\n",
    "plt.subplot(121)\n",
    "sns.histplot(data=df,x='total_score',bins=30,kde=True,color='g')\n",
    "plt.subplot(122)\n",
    "sns.histplot(data=df,x='total_score',kde=True,hue='gender')\n",
    "plt.show()"
   ]
  },
  {
   "cell_type": "markdown",
   "id": "8e120cc2",
   "metadata": {},
   "source": [
    "Female students marks are higher than the male students"
   ]
  },
  {
   "cell_type": "code",
   "execution_count": null,
   "id": "583a18fd",
   "metadata": {},
   "outputs": [
    {
     "ename": "",
     "evalue": "",
     "output_type": "error",
     "traceback": [
      "\u001b[1;31mRunning cells with 'venv (Python 3.9.0)' requires the ipykernel package.\n",
      "\u001b[1;31mRun the following command to install 'ipykernel' into the Python environment. \n",
      "\u001b[1;31mCommand: 'conda install -p c:\\Users\\deepa\\Panda 2024\\ML Project\\venv ipykernel --update-deps --force-reinstall'"
     ]
    }
   ],
   "source": [
    "plt.subplots(1,3,figsize = (15,6))\n",
    "plt.subplot(131)\n",
    "sns.histplot(data=df,x='average',kde=True,hue='lunch')\n",
    "plt.subplot(132)\n",
    "sns.histplot(data= df[df['gender']=='female'],x= 'average',kde=True,hue='lunch')\n",
    "plt.subplot(133)\n",
    "sns.histplot(data= df[df['gender']=='male'],x= 'average',kde=True,hue='lunch')\n",
    "plt.show()"
   ]
  },
  {
   "cell_type": "markdown",
   "id": "fc915994",
   "metadata": {},
   "source": [
    "standard lunch helps in performance in the exam\n",
    "standard lunch helps in both male and female perforamce"
   ]
  },
  {
   "cell_type": "code",
   "execution_count": null,
   "id": "1269adc8",
   "metadata": {},
   "outputs": [
    {
     "ename": "",
     "evalue": "",
     "output_type": "error",
     "traceback": [
      "\u001b[1;31mRunning cells with 'venv (Python 3.9.0)' requires the ipykernel package.\n",
      "\u001b[1;31mRun the following command to install 'ipykernel' into the Python environment. \n",
      "\u001b[1;31mCommand: 'conda install -p c:\\Users\\deepa\\Panda 2024\\ML Project\\venv ipykernel --update-deps --force-reinstall'"
     ]
    }
   ],
   "source": [
    "plt.subplots(1,3,figsize=(18,6))\n",
    "plt.subplot(131)\n",
    "sns.histplot(data=df,x='average',kde=True,hue='parental_level_of_education')\n",
    "plt.subplot(132)\n",
    "sns.histplot(data=df[df['gender']=='male'],x='average',kde=True,hue='parental_level_of_education')\n",
    "plt.subplot(133)\n",
    "sns.histplot(data=df[df['gender']=='female'],x='average',kde=True,hue='parental_level_of_education')\n",
    "plt.show()"
   ]
  },
  {
   "cell_type": "markdown",
   "id": "a3832018",
   "metadata": {},
   "source": [
    "1) In general parent's education does not help much in students performance\n",
    "2) parent's education is of associate and master's degree there male child perform well"
   ]
  },
  {
   "cell_type": "code",
   "execution_count": null,
   "id": "bed225d9",
   "metadata": {},
   "outputs": [
    {
     "ename": "",
     "evalue": "",
     "output_type": "error",
     "traceback": [
      "\u001b[1;31mRunning cells with 'venv (Python 3.9.0)' requires the ipykernel package.\n",
      "\u001b[1;31mRun the following command to install 'ipykernel' into the Python environment. \n",
      "\u001b[1;31mCommand: 'conda install -p c:\\Users\\deepa\\Panda 2024\\ML Project\\venv ipykernel --update-deps --force-reinstall'"
     ]
    }
   ],
   "source": [
    "plt.subplots(1,3,figsize=(18,6))\n",
    "plt.subplot(131)\n",
    "sns.histplot(data=df,x='average',kde=True,hue='race_ethnicity')\n",
    "plt.subplot(132)\n",
    "sns.histplot(data=df[df['gender']=='female'],x='average',kde=True,hue='race_ethnicity')\n",
    "plt.subplot(133)\n",
    "sns.histplot(data=df[df['gender']=='male'],x='average',kde=True,hue='race_ethnicity')\n",
    "plt.show()"
   ]
  },
  {
   "cell_type": "markdown",
   "id": "169b6318",
   "metadata": {},
   "source": [
    "1) Students of group A and B performance is poor\n",
    "2) Students of group A and B peerform poor irrespect of male and female"
   ]
  },
  {
   "cell_type": "code",
   "execution_count": null,
   "id": "6a39b038",
   "metadata": {},
   "outputs": [
    {
     "ename": "",
     "evalue": "",
     "output_type": "error",
     "traceback": [
      "\u001b[1;31mRunning cells with 'venv (Python 3.9.0)' requires the ipykernel package.\n",
      "\u001b[1;31mRun the following command to install 'ipykernel' into the Python environment. \n",
      "\u001b[1;31mCommand: 'conda install -p c:\\Users\\deepa\\Panda 2024\\ML Project\\venv ipykernel --update-deps --force-reinstall'"
     ]
    }
   ],
   "source": [
    "plt.subplots(1,3,figsize= (18,6))\n",
    "plt.subplot(131)\n",
    "sns.histplot(data=df,x='average',kde=True,hue='test_preparation_course')\n",
    "plt.subplot(132)\n",
    "sns.histplot(data=df[df['gender']=='female'],x='average',kde=True,hue='test_preparation_course')\n",
    "plt.subplot(133)\n",
    "sns.histplot(data=df[df['gender']=='male'],x='average',kde=True,hue='test_preparation_course')\n",
    "plt.show()"
   ]
  },
  {
   "cell_type": "markdown",
   "id": "87b47ee9",
   "metadata": {},
   "source": [
    "1) Students, who has completed his/her test preparation then ho got good mark irrespective of male and female"
   ]
  },
  {
   "cell_type": "code",
   "execution_count": null,
   "id": "2aa55a5e",
   "metadata": {},
   "outputs": [
    {
     "ename": "",
     "evalue": "",
     "output_type": "error",
     "traceback": [
      "\u001b[1;31mRunning cells with 'venv (Python 3.9.0)' requires the ipykernel package.\n",
      "\u001b[1;31mRun the following command to install 'ipykernel' into the Python environment. \n",
      "\u001b[1;31mCommand: 'conda install -p c:\\Users\\deepa\\Panda 2024\\ML Project\\venv ipykernel --update-deps --force-reinstall'"
     ]
    }
   ],
   "source": [
    "plt.figure(figsize=(18,8))\n",
    "plt.subplot(1,4,1)\n",
    "plt.title('MATH SCORE')\n",
    "sns.violinplot(y='math_score',data=df,color='red',linewidth=3)\n",
    "plt.subplot(1,4,2)\n",
    "plt.title('READING SCORE')\n",
    "sns.violinplot(y='reading_score',data=df,color='green',linewidth=3)\n",
    "plt.subplot(1,4,3)\n",
    "plt.title('WRITING SCORE')\n",
    "sns.violinplot(y='writing_score',data=df,color='blue',linewidth=3)\n",
    "plt.show()"
   ]
  },
  {
   "cell_type": "markdown",
   "id": "0bbe0f88",
   "metadata": {},
   "source": [
    "most of the students obtained 60-80 makrs in maths and 50-80 marks in reading and writing score"
   ]
  },
  {
   "cell_type": "code",
   "execution_count": null,
   "id": "364c99e1",
   "metadata": {},
   "outputs": [
    {
     "ename": "",
     "evalue": "",
     "output_type": "error",
     "traceback": [
      "\u001b[1;31mRunning cells with 'venv (Python 3.9.0)' requires the ipykernel package.\n",
      "\u001b[1;31mRun the following command to install 'ipykernel' into the Python environment. \n",
      "\u001b[1;31mCommand: 'conda install -p c:\\Users\\deepa\\Panda 2024\\ML Project\\venv ipykernel --update-deps --force-reinstall'"
     ]
    }
   ],
   "source": [
    "plt.rcParams['figure.figsize']=(30,12)\n",
    "plt.subplot(1,5,1)\n",
    "size = df['gender'].value_counts()\n",
    "labels = 'female','male'\n",
    "color = ['red','green']\n",
    "\n",
    "plt.pie(size,colors=color,labels=labels,autopct='.%2f%%')\n",
    "plt.title('Gender',fontsize = 15)\n",
    "plt.axis('off')\n",
    "\n",
    "plt.subplot(1,5,2)\n",
    "color = ['red','green','blue','cyan','orange']\n",
    "labels = 'Group C','Group D','Group B','Group E','Group A'\n",
    "plt.pie(df['race_ethnicity'].value_counts(),colors=color,labels=labels,autopct='.%2f%%')\n",
    "plt.title('Race Ethnicity',fontsize= 15)\n",
    "plt.axis('off')\n",
    "\n",
    "plt.subplot(1,5,3)\n",
    "color = ['red','green']\n",
    "labels = 'Standard','free'\n",
    "plt.pie(df['lunch'].value_counts(),colors=color,labels=labels,autopct='.%2f%%')\n",
    "plt.title('lunch',fontsize= 15)\n",
    "plt.axis('off')\n",
    "\n",
    "plt.subplot(1,5,4)\n",
    "color = ['red','green','blue','cyan','orange','grey']\n",
    "labels ='Some College', \"Associate's Degree\",'High School','Some High School',\"Bachelor's Degree\",\"Master's Degree\"\n",
    "plt.pie(df['parental_level_of_education'].value_counts(),colors=color,labels=labels,autopct='.%2f%%')\n",
    "plt.title('parental_level_of_education',fontsize= 15)\n",
    "plt.axis('off')\n",
    "\n",
    "plt.subplot(1,5,5)\n",
    "color = ['red','green']\n",
    "labels = 'none','completed'\n",
    "plt.pie(df['test_preparation_course'].value_counts(),colors=color,labels=labels,autopct='.%2f%%')\n",
    "plt.title('test_preparation_course',fontsize= 15)\n",
    "plt.axis('off')\n",
    "\n",
    "plt.tight_layout()\n",
    "plt.grid()\n",
    "\n",
    "plt.show()"
   ]
  },
  {
   "cell_type": "markdown",
   "id": "63f275e8",
   "metadata": {},
   "source": [
    "1) Number of male and female is almost equal\n",
    "2) Number of student is greatest in group c\n",
    "3) Number of student who have standard lunch are greter\n",
    "4) Number of student who has not enrolled in any test preparation is greater\n",
    "5) Some college parenr's have higher number of child"
   ]
  },
  {
   "cell_type": "code",
   "execution_count": null,
   "id": "d65eae46",
   "metadata": {},
   "outputs": [
    {
     "ename": "",
     "evalue": "",
     "output_type": "error",
     "traceback": [
      "\u001b[1;31mRunning cells with 'venv (Python 3.9.0)' requires the ipykernel package.\n",
      "\u001b[1;31mRun the following command to install 'ipykernel' into the Python environment. \n",
      "\u001b[1;31mCommand: 'conda install -p c:\\Users\\deepa\\Panda 2024\\ML Project\\venv ipykernel --update-deps --force-reinstall'"
     ]
    }
   ],
   "source": [
    "f,ax = plt.subplots(1,2,figsize=(20,10))\n",
    "sns.countplot(x=df['gender'],data=df,palette='bright',ax=ax[0],saturation=0.95)\n",
    "for container in ax[0].containers:\n",
    "    ax[0].bar_label(container,color='black',size=20)\n",
    "\n",
    "plt.pie(df['gender'].value_counts(),colors=['red','green'],labels=['male','female'],autopct='.%1.1f%%',shadow=True,explode=[0,0.1])\n",
    "plt.show()"
   ]
  },
  {
   "cell_type": "markdown",
   "id": "fae712b7",
   "metadata": {},
   "source": [
    "gender has balance data between male and female student"
   ]
  },
  {
   "cell_type": "code",
   "execution_count": null,
   "id": "e05d5256",
   "metadata": {},
   "outputs": [
    {
     "ename": "",
     "evalue": "",
     "output_type": "error",
     "traceback": [
      "\u001b[1;31mRunning cells with 'venv (Python 3.9.0)' requires the ipykernel package.\n",
      "\u001b[1;31mRun the following command to install 'ipykernel' into the Python environment. \n",
      "\u001b[1;31mCommand: 'conda install -p c:\\Users\\deepa\\Panda 2024\\ML Project\\venv ipykernel --update-deps --force-reinstall'"
     ]
    }
   ],
   "source": [
    "gender_group = df.groupby('gender').mean()\n",
    "gender_group"
   ]
  },
  {
   "cell_type": "code",
   "execution_count": null,
   "id": "01c1989f",
   "metadata": {},
   "outputs": [
    {
     "ename": "",
     "evalue": "",
     "output_type": "error",
     "traceback": [
      "\u001b[1;31mRunning cells with 'venv (Python 3.9.0)' requires the ipykernel package.\n",
      "\u001b[1;31mRun the following command to install 'ipykernel' into the Python environment. \n",
      "\u001b[1;31mCommand: 'conda install -p c:\\Users\\deepa\\Panda 2024\\ML Project\\venv ipykernel --update-deps --force-reinstall'"
     ]
    }
   ],
   "source": [
    "plt.figure(figsize=(10,8))\n",
    "\n",
    "X = ['Total Average','Math Average']\n",
    "\n",
    "female_scores = [gender_group['average'][0],gender_group['math_score'][0]]\n",
    "male_score = [gender_group['average'][1],gender_group['math_score'][1]]\n",
    "\n",
    "X_axis = np.arange(len(X))\n",
    "\n",
    "plt.bar(X_axis-0.2,male_score,0.4,label='Male')\n",
    "plt.bar(X_axis+0.2,female_scores,0.4,label='Female')\n",
    "\n",
    "plt.xticks(X_axis,X)\n",
    "plt.ylabel('Marks')\n",
    "plt.title('Total Average V/S Math Average',fontweight='bold')\n",
    "plt.legend()\n",
    "plt.show()"
   ]
  },
  {
   "cell_type": "code",
   "execution_count": null,
   "id": "9e5c522e",
   "metadata": {},
   "outputs": [
    {
     "ename": "",
     "evalue": "",
     "output_type": "error",
     "traceback": [
      "\u001b[1;31mRunning cells with 'venv (Python 3.9.0)' requires the ipykernel package.\n",
      "\u001b[1;31mRun the following command to install 'ipykernel' into the Python environment. \n",
      "\u001b[1;31mCommand: 'conda install -p c:\\Users\\deepa\\Panda 2024\\ML Project\\venv ipykernel --update-deps --force-reinstall'"
     ]
    }
   ],
   "source": [
    "df.head()"
   ]
  },
  {
   "cell_type": "markdown",
   "id": "b138deb1",
   "metadata": {},
   "source": [
    "1) on an average female has better mark then men\n",
    "2) in math, male has better mark then female"
   ]
  },
  {
   "cell_type": "code",
   "execution_count": null,
   "id": "3fac971e",
   "metadata": {},
   "outputs": [
    {
     "ename": "",
     "evalue": "",
     "output_type": "error",
     "traceback": [
      "\u001b[1;31mRunning cells with 'venv (Python 3.9.0)' requires the ipykernel package.\n",
      "\u001b[1;31mRun the following command to install 'ipykernel' into the Python environment. \n",
      "\u001b[1;31mCommand: 'conda install -p c:\\Users\\deepa\\Panda 2024\\ML Project\\venv ipykernel --update-deps --force-reinstall'"
     ]
    }
   ],
   "source": [
    "f,ax = plt.subplots(1,2,figsize=(20,10))\n",
    "sns.countplot(x=df['race_ethnicity'],data=df,palette='bright',ax=ax[0],saturation=0.95)\n",
    "for container in ax[0].containers:\n",
    "    ax[0].bar_label(container,color='black',size=20)\n",
    "\n",
    "plt.pie(df['race_ethnicity'].value_counts(),colors=['red','green','blue','cyan','grey'],labels=['Group A','Group B','Group C','Group D','Group E'],autopct='.%1.1f%%',shadow=True,explode=[0,0.1,0.2,0.3,0.4])\n",
    "plt.show()"
   ]
  },
  {
   "cell_type": "markdown",
   "id": "17638f06",
   "metadata": {},
   "source": [
    "1) Number of student in group c is greatest\n",
    "2) Lowest student in group A"
   ]
  },
  {
   "cell_type": "code",
   "execution_count": null,
   "id": "e2a49a0f",
   "metadata": {},
   "outputs": [
    {
     "ename": "",
     "evalue": "",
     "output_type": "error",
     "traceback": [
      "\u001b[1;31mRunning cells with 'venv (Python 3.9.0)' requires the ipykernel package.\n",
      "\u001b[1;31mRun the following command to install 'ipykernel' into the Python environment. \n",
      "\u001b[1;31mCommand: 'conda install -p c:\\Users\\deepa\\Panda 2024\\ML Project\\venv ipykernel --update-deps --force-reinstall'"
     ]
    }
   ],
   "source": [
    "race_group = df.groupby('race_ethnicity').mean()\n",
    "race_group"
   ]
  },
  {
   "cell_type": "code",
   "execution_count": null,
   "id": "e5c93a0a",
   "metadata": {},
   "outputs": [
    {
     "ename": "",
     "evalue": "",
     "output_type": "error",
     "traceback": [
      "\u001b[1;31mRunning cells with 'venv (Python 3.9.0)' requires the ipykernel package.\n",
      "\u001b[1;31mRun the following command to install 'ipykernel' into the Python environment. \n",
      "\u001b[1;31mCommand: 'conda install -p c:\\Users\\deepa\\Panda 2024\\ML Project\\venv ipykernel --update-deps --force-reinstall'"
     ]
    }
   ],
   "source": [
    "f,ax = plt.subplots(1,3,figsize=(20,8))\n",
    "sns.barplot(x=race_group['math_score'].index,y=race_group['math_score'].values,palette='mako',ax=ax[0])\n",
    "ax[0].set_title('Math Score',color='green',size =20)\n",
    "for container in ax[0].containers:\n",
    "    ax[0].bar_label(container,color='black',size=15)\n",
    "    \n",
    "sns.barplot(x=race_group['reading_score'].index,y=race_group['reading_score'].values,palette='flare',ax=ax[1])\n",
    "ax[1].set_title('Reading Score',color='red',size =20)\n",
    "for container in ax[1].containers:\n",
    "    ax[1].bar_label(container,color='black',size=15)\n",
    "    \n",
    "sns.barplot(x=race_group['writing_score'].index,y=race_group['reading_score'].values,palette='coolwarm',ax=ax[2])\n",
    "ax[2].set_title('Writing Score',color='red',size =20)\n",
    "for container in ax[2].containers:\n",
    "    ax[2].bar_label(container,color='black',size=15)"
   ]
  },
  {
   "cell_type": "markdown",
   "id": "04624507",
   "metadata": {},
   "source": [
    "1) Group E students have scored good marks\n",
    "2) Group A students have scored lowest marks\n",
    "3) lower socioeconomic status students scored less mark"
   ]
  },
  {
   "cell_type": "code",
   "execution_count": null,
   "id": "d1791236",
   "metadata": {},
   "outputs": [
    {
     "ename": "",
     "evalue": "",
     "output_type": "error",
     "traceback": [
      "\u001b[1;31mRunning cells with 'venv (Python 3.9.0)' requires the ipykernel package.\n",
      "\u001b[1;31mRun the following command to install 'ipykernel' into the Python environment. \n",
      "\u001b[1;31mCommand: 'conda install -p c:\\Users\\deepa\\Panda 2024\\ML Project\\venv ipykernel --update-deps --force-reinstall'"
     ]
    }
   ],
   "source": [
    "plt.rcParams['figure.figsize'] = (15,9)\n",
    "plt.style.use('fivethirtyeight')\n",
    "sns.countplot(df['parental_level_of_education'],palette='Blues')\n",
    "plt.title('Parent Education')\n",
    "plt.xlabel('Degree')\n",
    "plt.ylabel('Count')\n",
    "plt.show()"
   ]
  },
  {
   "cell_type": "markdown",
   "id": "a3bdbc3d",
   "metadata": {},
   "source": [
    "1) Largest parents have some college degree"
   ]
  },
  {
   "cell_type": "code",
   "execution_count": null,
   "id": "9116f749",
   "metadata": {},
   "outputs": [
    {
     "ename": "",
     "evalue": "",
     "output_type": "error",
     "traceback": [
      "\u001b[1;31mRunning cells with 'venv (Python 3.9.0)' requires the ipykernel package.\n",
      "\u001b[1;31mRun the following command to install 'ipykernel' into the Python environment. \n",
      "\u001b[1;31mCommand: 'conda install -p c:\\Users\\deepa\\Panda 2024\\ML Project\\venv ipykernel --update-deps --force-reinstall'"
     ]
    }
   ],
   "source": [
    "df.groupby('parental_level_of_education').agg('mean').plot(kind = 'barh',figsize=(10,10))\n",
    "plt.legend(bbox_to_anchor=(1.05,1),loc=2,borderaxespad=0.)\n",
    "plt.show()"
   ]
  },
  {
   "cell_type": "markdown",
   "id": "8c8c93dc",
   "metadata": {},
   "source": [
    "1) Master and bachelor parents degree possess student have higher marks"
   ]
  },
  {
   "cell_type": "code",
   "execution_count": null,
   "id": "0d00d871",
   "metadata": {},
   "outputs": [
    {
     "ename": "",
     "evalue": "",
     "output_type": "error",
     "traceback": [
      "\u001b[1;31mRunning cells with 'venv (Python 3.9.0)' requires the ipykernel package.\n",
      "\u001b[1;31mRun the following command to install 'ipykernel' into the Python environment. \n",
      "\u001b[1;31mCommand: 'conda install -p c:\\Users\\deepa\\Panda 2024\\ML Project\\venv ipykernel --update-deps --force-reinstall'"
     ]
    }
   ],
   "source": [
    "plt.rcParams['figure.figsize'] = (15,9)\n",
    "plt.style.use('seaborn-talk')\n",
    "sns.countplot(df['lunch'],palette='PuBu')\n",
    "plt.title('Lunch')\n",
    "plt.xlabel('Type of lunchs')\n",
    "plt.ylabel('count')\n",
    "plt.show()"
   ]
  },
  {
   "cell_type": "markdown",
   "id": "22d126fa",
   "metadata": {},
   "source": [
    "1) Maximum student have served the standard lunch"
   ]
  },
  {
   "cell_type": "code",
   "execution_count": null,
   "id": "6ee6a240",
   "metadata": {},
   "outputs": [
    {
     "ename": "",
     "evalue": "",
     "output_type": "error",
     "traceback": [
      "\u001b[1;31mRunning cells with 'venv (Python 3.9.0)' requires the ipykernel package.\n",
      "\u001b[1;31mRun the following command to install 'ipykernel' into the Python environment. \n",
      "\u001b[1;31mCommand: 'conda install -p c:\\Users\\deepa\\Panda 2024\\ML Project\\venv ipykernel --update-deps --force-reinstall'"
     ]
    }
   ],
   "source": [
    "f,ax = plt.subplots(1,2,figsize=(20,8))\n",
    "sns.countplot(x=df['parental_level_of_education'],data=df,palette='bright',hue='test_preparation_course',saturation=0.95,ax=ax[0])\n",
    "ax[0].set_title('student vs preparation course',color='black',size=25)\n",
    "for container in ax[0].containers:\n",
    "    ax[0].bar_label(container,color='black',size=20)\n",
    "    \n",
    "sns.countplot(x=df['parental_level_of_education'],data=df,palette='bright',hue='lunch',saturation=0.95,ax=ax[1])\n",
    "for container in ax[1].containers:\n",
    "    ax[1].bar_label(container,color='black',size=20)"
   ]
  },
  {
   "cell_type": "markdown",
   "id": "f375876e",
   "metadata": {},
   "source": [
    "1) Student got standard lunch have good performace"
   ]
  },
  {
   "cell_type": "code",
   "execution_count": null,
   "id": "b723a1fb",
   "metadata": {},
   "outputs": [
    {
     "ename": "",
     "evalue": "",
     "output_type": "error",
     "traceback": [
      "\u001b[1;31mRunning cells with 'venv (Python 3.9.0)' requires the ipykernel package.\n",
      "\u001b[1;31mRun the following command to install 'ipykernel' into the Python environment. \n",
      "\u001b[1;31mCommand: 'conda install -p c:\\Users\\deepa\\Panda 2024\\ML Project\\venv ipykernel --update-deps --force-reinstall'"
     ]
    }
   ],
   "source": [
    "plt.figure(figsize=(12,6))\n",
    "plt.subplot(2,2,1)\n",
    "sns.barplot(x=df['lunch'],y=df['math_score'],hue=df['test_preparation_course'])\n",
    "plt.subplot(2,2,2)\n",
    "sns.barplot(x=df['lunch'],y=df['reading_score'],hue=df['test_preparation_course'])\n",
    "plt.subplot(2,2,3)\n",
    "sns.barplot(x=df['lunch'],y=df['writing_score'],hue=df['test_preparation_course'])\n",
    "plt.show()"
   ]
  },
  {
   "cell_type": "markdown",
   "id": "97fc3f45",
   "metadata": {},
   "source": [
    "1) student who has completed test course got higher marks"
   ]
  },
  {
   "cell_type": "code",
   "execution_count": null,
   "id": "337241bb",
   "metadata": {},
   "outputs": [
    {
     "ename": "",
     "evalue": "",
     "output_type": "error",
     "traceback": [
      "\u001b[1;31mRunning cells with 'venv (Python 3.9.0)' requires the ipykernel package.\n",
      "\u001b[1;31mRun the following command to install 'ipykernel' into the Python environment. \n",
      "\u001b[1;31mCommand: 'conda install -p c:\\Users\\deepa\\Panda 2024\\ML Project\\venv ipykernel --update-deps --force-reinstall'"
     ]
    }
   ],
   "source": [
    "plt.subplots(1,4,figsize = (16,4))\n",
    "plt.subplot(141)\n",
    "sns.boxplot(df['math_score'],color='skyblue')\n",
    "plt.subplot(142)\n",
    "sns.boxplot(df['reading_score'],color='pink')\n",
    "plt.subplot(143)\n",
    "sns.boxplot(df['writing_score'],color='yellow')\n",
    "plt.subplot(144)\n",
    "sns.boxplot(df['average'],color='green')"
   ]
  },
  {
   "cell_type": "code",
   "execution_count": null,
   "id": "ea85949f",
   "metadata": {},
   "outputs": [
    {
     "ename": "",
     "evalue": "",
     "output_type": "error",
     "traceback": [
      "\u001b[1;31mRunning cells with 'venv (Python 3.9.0)' requires the ipykernel package.\n",
      "\u001b[1;31mRun the following command to install 'ipykernel' into the Python environment. \n",
      "\u001b[1;31mCommand: 'conda install -p c:\\Users\\deepa\\Panda 2024\\ML Project\\venv ipykernel --update-deps --force-reinstall'"
     ]
    }
   ],
   "source": [
    "sns.pairplot(df,hue='gender')\n",
    "plt.show()"
   ]
  },
  {
   "cell_type": "markdown",
   "id": "ea93b2f3",
   "metadata": {},
   "source": [
    "# Conclusion"
   ]
  },
  {
   "cell_type": "markdown",
   "id": "318679f0",
   "metadata": {},
   "source": [
    "1) Student's Performance is related with lunch, race, parental level education\n",
    "2) Females lead in pass percentage and also are top-scorers\n",
    "3) Student's Performance is not much related with test preparation course\n",
    "4) Finishing preparation course is benefitial."
   ]
  },
  {
   "cell_type": "code",
   "execution_count": null,
   "id": "35f8c18d",
   "metadata": {},
   "outputs": [
    {
     "ename": "",
     "evalue": "",
     "output_type": "error",
     "traceback": [
      "\u001b[1;31mRunning cells with 'venv (Python 3.9.0)' requires the ipykernel package.\n",
      "\u001b[1;31mRun the following command to install 'ipykernel' into the Python environment. \n",
      "\u001b[1;31mCommand: 'conda install -p c:\\Users\\deepa\\Panda 2024\\ML Project\\venv ipykernel --update-deps --force-reinstall'"
     ]
    }
   ],
   "source": []
  },
  {
   "cell_type": "code",
   "execution_count": null,
   "id": "60148665",
   "metadata": {},
   "outputs": [],
   "source": []
  }
 ],
 "metadata": {
  "kernelspec": {
   "display_name": "Python 3 (ipykernel)",
   "language": "python",
   "name": "python3"
  },
  "language_info": {
   "codemirror_mode": {
    "name": "ipython",
    "version": 3
   },
   "file_extension": ".py",
   "mimetype": "text/x-python",
   "name": "python",
   "nbconvert_exporter": "python",
   "pygments_lexer": "ipython3",
   "version": "3.9.0"
  }
 },
 "nbformat": 4,
 "nbformat_minor": 5
}
